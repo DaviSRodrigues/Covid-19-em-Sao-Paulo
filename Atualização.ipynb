{
 "cells": [
  {
   "cell_type": "code",
   "execution_count": 1,
   "metadata": {
    "execution": {
     "iopub.execute_input": "2020-05-31T00:07:34.048063Z",
     "iopub.status.busy": "2020-05-31T00:07:34.047439Z",
     "iopub.status.idle": "2020-05-31T00:07:34.932549Z",
     "shell.execute_reply": "2020-05-31T00:07:34.931501Z"
    },
    "papermill": {
     "duration": 0.894212,
     "end_time": "2020-05-31T00:07:34.932677",
     "exception": false,
     "start_time": "2020-05-31T00:07:34.038465",
     "status": "completed"
    },
    "tags": []
   },
   "outputs": [
    {
     "name": "stdout",
     "output_type": "stream",
     "text": [
      "Importing Jupyter notebook from Graficos_Cidade_SP.ipynb\n"
     ]
    }
   ],
   "source": [
    "import nbimporter\n",
    "from Graficos_Cidade_SP import carrega_dados"
   ]
  },
  {
   "cell_type": "code",
   "execution_count": 2,
   "metadata": {
    "execution": {
     "iopub.execute_input": "2020-05-31T00:07:34.948938Z",
     "iopub.status.busy": "2020-05-31T00:07:34.946218Z",
     "iopub.status.idle": "2020-05-31T00:08:02.908361Z",
     "shell.execute_reply": "2020-05-31T00:08:02.907453Z"
    },
    "papermill": {
     "duration": 27.97054,
     "end_time": "2020-05-31T00:08:02.908476",
     "exception": false,
     "start_time": "2020-05-31T00:07:34.937936",
     "status": "completed"
    },
    "tags": []
   },
   "outputs": [
    {
     "name": "stdout",
     "output_type": "stream",
     "text": [
      "Extraindo dados novos de 30/05/2020...\n"
     ]
    },
    {
     "name": "stdout",
     "output_type": "stream",
     "text": [
      "URL do boletim municipal: https://www.prefeitura.sp.gov.br/cidade/secretarias/saude/vigilancia_em_saude/doencas_e_agravos/coronavirus/index.php?p=295572\n"
     ]
    },
    {
     "name": "stderr",
     "output_type": "stream",
     "text": [
      "Traceback (most recent call last):\n",
      "  File \"Graficos_Cidade_SP.ipynb\", line 44, in carrega_dados\n",
      "    \"iopub.status.idle\": \"2020-05-30T00:07:17.433089Z\",\n",
      "  File \"/opt/hostedtoolcache/Python/3.7.7/x64/lib/python3.7/site-packages/tabula/io.py\", line 311, in read_pdf\n",
      "    path, temporary = localize_file(input_path, user_agent)\n",
      "  File \"/opt/hostedtoolcache/Python/3.7.7/x64/lib/python3.7/site-packages/tabula/file_util.py\", line 40, in localize_file\n",
      "    req = urlopen(path_or_buffer)\n",
      "  File \"/opt/hostedtoolcache/Python/3.7.7/x64/lib/python3.7/urllib/request.py\", line 222, in urlopen\n",
      "    return opener.open(url, data, timeout)\n",
      "  File \"/opt/hostedtoolcache/Python/3.7.7/x64/lib/python3.7/urllib/request.py\", line 531, in open\n",
      "    response = meth(req, response)\n",
      "  File \"/opt/hostedtoolcache/Python/3.7.7/x64/lib/python3.7/urllib/request.py\", line 641, in http_response\n",
      "    'http', request, response, code, msg, hdrs)\n",
      "  File \"/opt/hostedtoolcache/Python/3.7.7/x64/lib/python3.7/urllib/request.py\", line 569, in error\n",
      "    return self._call_chain(*args)\n",
      "  File \"/opt/hostedtoolcache/Python/3.7.7/x64/lib/python3.7/urllib/request.py\", line 503, in _call_chain\n",
      "    result = func(*args)\n",
      "  File \"/opt/hostedtoolcache/Python/3.7.7/x64/lib/python3.7/urllib/request.py\", line 649, in http_error_default\n",
      "    raise HTTPError(req.full_url, code, msg, hdrs, fp)\n",
      "urllib.error.HTTPError: HTTP Error 404: Not Found\n"
     ]
    }
   ],
   "source": [
    "cidade, hospitais_campanha, leitos_municipais = carrega_dados()"
   ]
  },
  {
   "cell_type": "code",
   "execution_count": 3,
   "metadata": {
    "execution": {
     "iopub.execute_input": "2020-05-31T00:08:02.941866Z",
     "iopub.status.busy": "2020-05-31T00:08:02.937322Z",
     "iopub.status.idle": "2020-05-31T00:08:02.944786Z",
     "shell.execute_reply": "2020-05-31T00:08:02.945361Z"
    },
    "papermill": {
     "duration": 0.031325,
     "end_time": "2020-05-31T00:08:02.945502",
     "exception": false,
     "start_time": "2020-05-31T00:08:02.914177",
     "status": "completed"
    },
    "tags": []
   },
   "outputs": [
    {
     "data": {
      "text/html": [
       "<div>\n",
       "<style scoped>\n",
       "    .dataframe tbody tr th:only-of-type {\n",
       "        vertical-align: middle;\n",
       "    }\n",
       "\n",
       "    .dataframe tbody tr th {\n",
       "        vertical-align: top;\n",
       "    }\n",
       "\n",
       "    .dataframe thead th {\n",
       "        text-align: right;\n",
       "    }\n",
       "</style>\n",
       "<table border=\"1\" class=\"dataframe\">\n",
       "  <thead>\n",
       "    <tr style=\"text-align: right;\">\n",
       "      <th></th>\n",
       "      <th>data</th>\n",
       "      <th>suspeitos</th>\n",
       "      <th>confirmados</th>\n",
       "      <th>óbitos</th>\n",
       "      <th>óbitos_suspeitos</th>\n",
       "    </tr>\n",
       "  </thead>\n",
       "  <tbody>\n",
       "    <tr>\n",
       "      <th>63</th>\n",
       "      <td>28/05/2020</td>\n",
       "      <td>180562</td>\n",
       "      <td>56775</td>\n",
       "      <td>3823.0</td>\n",
       "      <td>3970.0</td>\n",
       "    </tr>\n",
       "    <tr>\n",
       "      <th>64</th>\n",
       "      <td>29/05/2020</td>\n",
       "      <td>185082</td>\n",
       "      <td>59869</td>\n",
       "      <td>NaN</td>\n",
       "      <td>NaN</td>\n",
       "    </tr>\n",
       "  </tbody>\n",
       "</table>\n",
       "</div>"
      ],
      "text/plain": [
       "          data  suspeitos  confirmados  óbitos  óbitos_suspeitos\n",
       "63  28/05/2020     180562        56775  3823.0            3970.0\n",
       "64  29/05/2020     185082        59869     NaN               NaN"
      ]
     },
     "execution_count": 3,
     "metadata": {},
     "output_type": "execute_result"
    }
   ],
   "source": [
    "cidade.tail(2)"
   ]
  },
  {
   "cell_type": "code",
   "execution_count": 4,
   "metadata": {
    "execution": {
     "iopub.execute_input": "2020-05-31T00:08:02.965236Z",
     "iopub.status.busy": "2020-05-31T00:08:02.964479Z",
     "iopub.status.idle": "2020-05-31T00:08:02.967937Z",
     "shell.execute_reply": "2020-05-31T00:08:02.967353Z"
    },
    "papermill": {
     "duration": 0.017281,
     "end_time": "2020-05-31T00:08:02.968053",
     "exception": false,
     "start_time": "2020-05-31T00:08:02.950772",
     "status": "completed"
    },
    "tags": []
   },
   "outputs": [
    {
     "name": "stdout",
     "output_type": "stream",
     "text": [
      "CACHE_NAME: Covid19-SP-29/05/2020-02\n"
     ]
    }
   ],
   "source": [
    "data_anterior = cidade.data.iat[-2]\n",
    "data_atual = cidade.data.iat[-1]\n",
    "\n",
    "with open('docs/serviceWorker.js', 'r') as file :\n",
    "  filedata = file.read()\n",
    "\n",
    "versao_anterior = int(filedata[16:18])\n",
    "\n",
    "#primeira atualização no dia\n",
    "if(filedata.count(data_atual) == 0):\n",
    "    versao_atual = 1\n",
    "    filedata = filedata.replace(data_anterior, data_atual)\n",
    "else:\n",
    "    versao_atual = versao_anterior + 1\n",
    "    \n",
    "print(f'CACHE_NAME: Covid19-SP-{data_atual}-{str(versao_atual).zfill(2)}')\n",
    "    \n",
    "versao_anterior = \"VERSAO = '\" + str(versao_anterior).zfill(2) + \"'\"\n",
    "versao_atual = \"VERSAO = '\" + str(versao_atual).zfill(2) + \"'\"\n",
    "filedata = filedata.replace(versao_anterior, versao_atual)\n",
    "\n",
    "with open('docs/serviceWorker.js', 'w') as file:\n",
    "  file.write(filedata)"
   ]
  }
 ],
 "metadata": {
  "kernelspec": {
   "display_name": "Python 3",
   "language": "python",
   "name": "python3"
  },
  "language_info": {
   "codemirror_mode": {
    "name": "ipython",
    "version": 3
   },
   "file_extension": ".py",
   "mimetype": "text/x-python",
   "name": "python",
   "nbconvert_exporter": "python",
   "pygments_lexer": "ipython3",
   "version": "3.7.7"
  },
  "papermill": {
   "duration": 29.867559,
   "end_time": "2020-05-31T00:08:03.080546",
   "environment_variables": {},
   "exception": null,
   "input_path": "Atualização.ipynb",
   "output_path": "Atualização.ipynb",
   "parameters": {},
   "start_time": "2020-05-31T00:07:33.212987",
   "version": "2.1.1"
  }
 },
 "nbformat": 4,
 "nbformat_minor": 4
}