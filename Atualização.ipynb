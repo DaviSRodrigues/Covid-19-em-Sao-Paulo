{
 "cells": [
  {
   "cell_type": "code",
   "execution_count": 1,
   "metadata": {
    "execution": {
     "iopub.execute_input": "2020-05-29T00:06:50.414030Z",
     "iopub.status.busy": "2020-05-29T00:06:50.413424Z",
     "iopub.status.idle": "2020-05-29T00:06:51.194742Z",
     "shell.execute_reply": "2020-05-29T00:06:51.195195Z"
    },
    "papermill": {
     "duration": 0.793181,
     "end_time": "2020-05-29T00:06:51.195377",
     "exception": false,
     "start_time": "2020-05-29T00:06:50.402196",
     "status": "completed"
    },
    "tags": []
   },
   "outputs": [
    {
     "name": "stdout",
     "output_type": "stream",
     "text": [
      "Importing Jupyter notebook from Graficos_Cidade_SP.ipynb\n"
     ]
    }
   ],
   "source": [
    "import nbimporter\n",
    "from Graficos_Cidade_SP import carrega_dados"
   ]
  },
  {
   "cell_type": "code",
   "execution_count": 2,
   "metadata": {
    "execution": {
     "iopub.execute_input": "2020-05-29T00:06:51.212590Z",
     "iopub.status.busy": "2020-05-29T00:06:51.209977Z",
     "iopub.status.idle": "2020-05-29T00:07:02.008279Z",
     "shell.execute_reply": "2020-05-29T00:07:02.007766Z"
    },
    "papermill": {
     "duration": 10.808988,
     "end_time": "2020-05-29T00:07:02.008390",
     "exception": false,
     "start_time": "2020-05-29T00:06:51.199402",
     "status": "completed"
    },
    "tags": []
   },
   "outputs": [
    {
     "name": "stdout",
     "output_type": "stream",
     "text": [
      "Extraindo dados novos de 28/05/2020...\n"
     ]
    },
    {
     "name": "stdout",
     "output_type": "stream",
     "text": [
      "URL do boletim municipal: https://www.prefeitura.sp.gov.br/cidade/secretarias/upload/saude/20200528_boletim_covid19_diariov2.pdf\n"
     ]
    },
    {
     "name": "stderr",
     "output_type": "stream",
     "text": [
      "Got stderr: mai 29, 2020 12:06:55 AM org.apache.pdfbox.pdmodel.font.FileSystemFontProvider loadDiskCache\n",
      "ADVERTÊNCIA: New fonts found, font cache will be re-built\n",
      "mai 29, 2020 12:06:55 AM org.apache.pdfbox.pdmodel.font.FileSystemFontProvider <init>\n",
      "ADVERTÊNCIA: Building on-disk font cache, this may take a while\n",
      "mai 29, 2020 12:06:58 AM org.apache.pdfbox.pdmodel.font.FileSystemFontProvider <init>\n",
      "ADVERTÊNCIA: Finished building on-disk font cache, found 77 fonts\n",
      "mai 29, 2020 12:06:58 AM org.apache.pdfbox.pdmodel.font.PDCIDFontType2 <init>\n",
      "INFORMAÇÕES: OpenType Layout tables used in font ABCDEE+Calibri are not implemented in PDFBox and will be ignored\n",
      "mai 29, 2020 12:06:58 AM org.apache.pdfbox.pdmodel.font.PDCIDFontType2 <init>\n",
      "INFORMAÇÕES: OpenType Layout tables used in font Arial,Bold are not implemented in PDFBox and will be ignored\n",
      "\n"
     ]
    },
    {
     "name": "stderr",
     "output_type": "stream",
     "text": [
      "Got stderr: mai 29, 2020 12:07:01 AM org.apache.pdfbox.pdmodel.font.PDCIDFontType2 <init>\n",
      "INFORMAÇÕES: OpenType Layout tables used in font ABCDEE+Calibri are not implemented in PDFBox and will be ignored\n",
      "\n"
     ]
    }
   ],
   "source": [
    "cidade, hospitais_campanha, leitos_municipais = carrega_dados()"
   ]
  },
  {
   "cell_type": "code",
   "execution_count": 3,
   "metadata": {
    "execution": {
     "iopub.execute_input": "2020-05-29T00:07:02.031558Z",
     "iopub.status.busy": "2020-05-29T00:07:02.028365Z",
     "iopub.status.idle": "2020-05-29T00:07:02.039740Z",
     "shell.execute_reply": "2020-05-29T00:07:02.039171Z"
    },
    "papermill": {
     "duration": 0.026692,
     "end_time": "2020-05-29T00:07:02.039845",
     "exception": false,
     "start_time": "2020-05-29T00:07:02.013153",
     "status": "completed"
    },
    "tags": []
   },
   "outputs": [
    {
     "data": {
      "text/html": [
       "<div>\n",
       "<style scoped>\n",
       "    .dataframe tbody tr th:only-of-type {\n",
       "        vertical-align: middle;\n",
       "    }\n",
       "\n",
       "    .dataframe tbody tr th {\n",
       "        vertical-align: top;\n",
       "    }\n",
       "\n",
       "    .dataframe thead th {\n",
       "        text-align: right;\n",
       "    }\n",
       "</style>\n",
       "<table border=\"1\" class=\"dataframe\">\n",
       "  <thead>\n",
       "    <tr style=\"text-align: right;\">\n",
       "      <th></th>\n",
       "      <th>data</th>\n",
       "      <th>suspeitos</th>\n",
       "      <th>confirmados</th>\n",
       "      <th>óbitos</th>\n",
       "      <th>óbitos_suspeitos</th>\n",
       "    </tr>\n",
       "  </thead>\n",
       "  <tbody>\n",
       "    <tr>\n",
       "      <th>62</th>\n",
       "      <td>27/05/2020</td>\n",
       "      <td>180720</td>\n",
       "      <td>54948</td>\n",
       "      <td>3719.0</td>\n",
       "      <td>388.0</td>\n",
       "    </tr>\n",
       "    <tr>\n",
       "      <th>63</th>\n",
       "      <td>28/05/2020</td>\n",
       "      <td>180562</td>\n",
       "      <td>56775</td>\n",
       "      <td>NaN</td>\n",
       "      <td>NaN</td>\n",
       "    </tr>\n",
       "  </tbody>\n",
       "</table>\n",
       "</div>"
      ],
      "text/plain": [
       "          data  suspeitos  confirmados  óbitos  óbitos_suspeitos\n",
       "62  27/05/2020     180720        54948  3719.0             388.0\n",
       "63  28/05/2020     180562        56775     NaN               NaN"
      ]
     },
     "execution_count": 3,
     "metadata": {},
     "output_type": "execute_result"
    }
   ],
   "source": [
    "cidade.tail(2)"
   ]
  },
  {
   "cell_type": "code",
   "execution_count": 4,
   "metadata": {
    "execution": {
     "iopub.execute_input": "2020-05-29T00:07:02.064381Z",
     "iopub.status.busy": "2020-05-29T00:07:02.063523Z",
     "iopub.status.idle": "2020-05-29T00:07:02.067026Z",
     "shell.execute_reply": "2020-05-29T00:07:02.067471Z"
    },
    "papermill": {
     "duration": 0.022627,
     "end_time": "2020-05-29T00:07:02.067608",
     "exception": false,
     "start_time": "2020-05-29T00:07:02.044981",
     "status": "completed"
    },
    "tags": []
   },
   "outputs": [
    {
     "name": "stdout",
     "output_type": "stream",
     "text": [
      "CACHE_NAME: Covid19-SP-28/05/2020-01\n"
     ]
    }
   ],
   "source": [
    "data_anterior = cidade.data.iat[-2]\n",
    "data_atual = cidade.data.iat[-1]\n",
    "\n",
    "with open('docs/serviceWorker.js', 'r') as file :\n",
    "  filedata = file.read()\n",
    "\n",
    "versao_anterior = int(filedata[16:18])\n",
    "\n",
    "#primeira atualização no dia\n",
    "if(filedata.count(data_atual) == 0):\n",
    "    versao_atual = 1\n",
    "    filedata = filedata.replace(data_anterior, data_atual)\n",
    "else:\n",
    "    versao_atual = versao_anterior + 1\n",
    "    \n",
    "print(f'CACHE_NAME: Covid19-SP-{data_atual}-{str(versao_atual).zfill(2)}')\n",
    "    \n",
    "versao_anterior = \"VERSAO = '\" + str(versao_anterior).zfill(2) + \"'\"\n",
    "versao_atual = \"VERSAO = '\" + str(versao_atual).zfill(2) + \"'\"\n",
    "filedata = filedata.replace(versao_anterior, versao_atual)\n",
    "\n",
    "with open('docs/serviceWorker.js', 'w') as file:\n",
    "  file.write(filedata)"
   ]
  }
 ],
 "metadata": {
  "kernelspec": {
   "display_name": "Python 3",
   "language": "python",
   "name": "python3"
  },
  "language_info": {
   "codemirror_mode": {
    "name": "ipython",
    "version": 3
   },
   "file_extension": ".py",
   "mimetype": "text/x-python",
   "name": "python",
   "nbconvert_exporter": "python",
   "pygments_lexer": "ipython3",
   "version": "3.7.6"
  },
  "papermill": {
   "duration": 12.461,
   "end_time": "2020-05-29T00:07:02.179871",
   "environment_variables": {},
   "exception": null,
   "input_path": "Atualização.ipynb",
   "output_path": "Atualização.ipynb",
   "parameters": {},
   "start_time": "2020-05-29T00:06:49.718871",
   "version": "2.1.1"
  }
 },
 "nbformat": 4,
 "nbformat_minor": 4
}