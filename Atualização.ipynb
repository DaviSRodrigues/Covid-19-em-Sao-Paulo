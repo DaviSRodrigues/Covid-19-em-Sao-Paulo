{
 "cells": [
  {
   "cell_type": "code",
   "execution_count": 1,
   "metadata": {
    "execution": {
     "iopub.execute_input": "2020-05-30T00:07:05.492346Z",
     "iopub.status.busy": "2020-05-30T00:07:05.491791Z",
     "iopub.status.idle": "2020-05-30T00:07:06.278178Z",
     "shell.execute_reply": "2020-05-30T00:07:06.277267Z"
    },
    "papermill": {
     "duration": 0.796768,
     "end_time": "2020-05-30T00:07:06.278551",
     "exception": false,
     "start_time": "2020-05-30T00:07:05.481783",
     "status": "completed"
    },
    "tags": []
   },
   "outputs": [
    {
     "name": "stdout",
     "output_type": "stream",
     "text": [
      "Importing Jupyter notebook from Graficos_Cidade_SP.ipynb\n"
     ]
    }
   ],
   "source": [
    "import nbimporter\n",
    "from Graficos_Cidade_SP import carrega_dados"
   ]
  },
  {
   "cell_type": "code",
   "execution_count": 2,
   "metadata": {
    "execution": {
     "iopub.execute_input": "2020-05-30T00:07:06.293257Z",
     "iopub.status.busy": "2020-05-30T00:07:06.290538Z",
     "iopub.status.idle": "2020-05-30T00:07:14.548943Z",
     "shell.execute_reply": "2020-05-30T00:07:14.548094Z"
    },
    "papermill": {
     "duration": 8.265563,
     "end_time": "2020-05-30T00:07:14.549068",
     "exception": false,
     "start_time": "2020-05-30T00:07:06.283505",
     "status": "completed"
    },
    "tags": []
   },
   "outputs": [
    {
     "name": "stdout",
     "output_type": "stream",
     "text": [
      "Extraindo dados novos de 29/05/2020...\n"
     ]
    },
    {
     "name": "stdout",
     "output_type": "stream",
     "text": [
      "URL do boletim municipal: https://www.prefeitura.sp.gov.br/cidade/secretarias/upload/saude/20200529_boletim_covid19_diariov2.pdf\n"
     ]
    },
    {
     "name": "stderr",
     "output_type": "stream",
     "text": [
      "Got stderr: mai 30, 2020 12:07:10 AM org.apache.pdfbox.pdmodel.font.FileSystemFontProvider loadDiskCache\n",
      "ADVERTÊNCIA: New fonts found, font cache will be re-built\n",
      "mai 30, 2020 12:07:10 AM org.apache.pdfbox.pdmodel.font.FileSystemFontProvider <init>\n",
      "ADVERTÊNCIA: Building on-disk font cache, this may take a while\n",
      "mai 30, 2020 12:07:11 AM org.apache.pdfbox.pdmodel.font.FileSystemFontProvider <init>\n",
      "ADVERTÊNCIA: Finished building on-disk font cache, found 77 fonts\n",
      "mai 30, 2020 12:07:11 AM org.apache.pdfbox.pdmodel.font.PDCIDFontType2 <init>\n",
      "INFORMAÇÕES: OpenType Layout tables used in font ABCDEE+Calibri are not implemented in PDFBox and will be ignored\n",
      "mai 30, 2020 12:07:11 AM org.apache.pdfbox.pdmodel.font.PDCIDFontType2 <init>\n",
      "INFORMAÇÕES: OpenType Layout tables used in font Arial,Bold are not implemented in PDFBox and will be ignored\n",
      "\n"
     ]
    },
    {
     "name": "stderr",
     "output_type": "stream",
     "text": [
      "Got stderr: mai 30, 2020 12:07:14 AM org.apache.pdfbox.pdmodel.font.PDCIDFontType2 <init>\n",
      "INFORMAÇÕES: OpenType Layout tables used in font ABCDEE+Calibri are not implemented in PDFBox and will be ignored\n",
      "\n"
     ]
    }
   ],
   "source": [
    "cidade, hospitais_campanha, leitos_municipais = carrega_dados()"
   ]
  },
  {
   "cell_type": "code",
   "execution_count": 3,
   "metadata": {
    "execution": {
     "iopub.execute_input": "2020-05-30T00:07:14.571023Z",
     "iopub.status.busy": "2020-05-30T00:07:14.570467Z",
     "iopub.status.idle": "2020-05-30T00:07:14.577255Z",
     "shell.execute_reply": "2020-05-30T00:07:14.576588Z"
    },
    "papermill": {
     "duration": 0.023944,
     "end_time": "2020-05-30T00:07:14.577361",
     "exception": false,
     "start_time": "2020-05-30T00:07:14.553417",
     "status": "completed"
    },
    "tags": []
   },
   "outputs": [
    {
     "data": {
      "text/html": [
       "<div>\n",
       "<style scoped>\n",
       "    .dataframe tbody tr th:only-of-type {\n",
       "        vertical-align: middle;\n",
       "    }\n",
       "\n",
       "    .dataframe tbody tr th {\n",
       "        vertical-align: top;\n",
       "    }\n",
       "\n",
       "    .dataframe thead th {\n",
       "        text-align: right;\n",
       "    }\n",
       "</style>\n",
       "<table border=\"1\" class=\"dataframe\">\n",
       "  <thead>\n",
       "    <tr style=\"text-align: right;\">\n",
       "      <th></th>\n",
       "      <th>data</th>\n",
       "      <th>suspeitos</th>\n",
       "      <th>confirmados</th>\n",
       "      <th>óbitos</th>\n",
       "      <th>óbitos_suspeitos</th>\n",
       "    </tr>\n",
       "  </thead>\n",
       "  <tbody>\n",
       "    <tr>\n",
       "      <th>63</th>\n",
       "      <td>28/05/2020</td>\n",
       "      <td>180562</td>\n",
       "      <td>56775</td>\n",
       "      <td>3823.0</td>\n",
       "      <td>3970.0</td>\n",
       "    </tr>\n",
       "    <tr>\n",
       "      <th>64</th>\n",
       "      <td>29/05/2020</td>\n",
       "      <td>185082</td>\n",
       "      <td>59869</td>\n",
       "      <td>NaN</td>\n",
       "      <td>NaN</td>\n",
       "    </tr>\n",
       "  </tbody>\n",
       "</table>\n",
       "</div>"
      ],
      "text/plain": [
       "          data  suspeitos  confirmados  óbitos  óbitos_suspeitos\n",
       "63  28/05/2020     180562        56775  3823.0            3970.0\n",
       "64  29/05/2020     185082        59869     NaN               NaN"
      ]
     },
     "execution_count": 3,
     "metadata": {},
     "output_type": "execute_result"
    }
   ],
   "source": [
    "cidade.tail(2)"
   ]
  },
  {
   "cell_type": "code",
   "execution_count": 4,
   "metadata": {
    "execution": {
     "iopub.execute_input": "2020-05-30T00:07:14.595915Z",
     "iopub.status.busy": "2020-05-30T00:07:14.594646Z",
     "iopub.status.idle": "2020-05-30T00:07:14.597759Z",
     "shell.execute_reply": "2020-05-30T00:07:14.598109Z"
    },
    "papermill": {
     "duration": 0.015946,
     "end_time": "2020-05-30T00:07:14.598210",
     "exception": false,
     "start_time": "2020-05-30T00:07:14.582264",
     "status": "completed"
    },
    "tags": []
   },
   "outputs": [
    {
     "name": "stdout",
     "output_type": "stream",
     "text": [
      "CACHE_NAME: Covid19-SP-29/05/2020-01\n"
     ]
    }
   ],
   "source": [
    "data_anterior = cidade.data.iat[-2]\n",
    "data_atual = cidade.data.iat[-1]\n",
    "\n",
    "with open('docs/serviceWorker.js', 'r') as file :\n",
    "  filedata = file.read()\n",
    "\n",
    "versao_anterior = int(filedata[16:18])\n",
    "\n",
    "#primeira atualização no dia\n",
    "if(filedata.count(data_atual) == 0):\n",
    "    versao_atual = 1\n",
    "    filedata = filedata.replace(data_anterior, data_atual)\n",
    "else:\n",
    "    versao_atual = versao_anterior + 1\n",
    "    \n",
    "print(f'CACHE_NAME: Covid19-SP-{data_atual}-{str(versao_atual).zfill(2)}')\n",
    "    \n",
    "versao_anterior = \"VERSAO = '\" + str(versao_anterior).zfill(2) + \"'\"\n",
    "versao_atual = \"VERSAO = '\" + str(versao_atual).zfill(2) + \"'\"\n",
    "filedata = filedata.replace(versao_anterior, versao_atual)\n",
    "\n",
    "with open('docs/serviceWorker.js', 'w') as file:\n",
    "  file.write(filedata)"
   ]
  }
 ],
 "metadata": {
  "kernelspec": {
   "display_name": "Python 3",
   "language": "python",
   "name": "python3"
  },
  "language_info": {
   "codemirror_mode": {
    "name": "ipython",
    "version": 3
   },
   "file_extension": ".py",
   "mimetype": "text/x-python",
   "name": "python",
   "nbconvert_exporter": "python",
   "pygments_lexer": "ipython3",
   "version": "3.7.7"
  },
  "papermill": {
   "duration": 9.940281,
   "end_time": "2020-05-30T00:07:14.710506",
   "environment_variables": {},
   "exception": null,
   "input_path": "Atualização.ipynb",
   "output_path": "Atualização.ipynb",
   "parameters": {},
   "start_time": "2020-05-30T00:07:04.770225",
   "version": "2.1.1"
  }
 },
 "nbformat": 4,
 "nbformat_minor": 4
}