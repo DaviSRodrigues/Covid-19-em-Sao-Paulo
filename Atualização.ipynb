{
 "cells": [
  {
   "cell_type": "code",
   "execution_count": 1,
   "metadata": {},
   "outputs": [
    {
     "name": "stdout",
     "output_type": "stream",
     "text": [
      "Importing Jupyter notebook from Graficos_Cidade_SP.ipynb\n"
     ]
    }
   ],
   "source": [
    "import nbimporter\n",
    "from Graficos_Cidade_SP import carrega_dados"
   ]
  },
  {
   "cell_type": "code",
   "execution_count": 2,
   "metadata": {},
   "outputs": [
    {
     "name": "stdout",
     "output_type": "stream",
     "text": [
      "Atualizando dados existentes de 27/05/2020...\n",
      "URL do boletim municipal: https://www.prefeitura.sp.gov.br/cidade/secretarias/upload/saude/20200527_boletim_covid_19_diariov2.pdf\n"
     ]
    },
    {
     "name": "stderr",
     "output_type": "stream",
     "text": [
      "Got stderr: mai 27, 2020 8:05:19 PM org.apache.pdfbox.pdmodel.font.PDCIDFontType2 <init>\n",
      "INFO: OpenType Layout tables used in font ABCDEE+Calibri are not implemented in PDFBox and will be ignored\n",
      "\n",
      "Got stderr: mai 27, 2020 8:05:20 PM org.apache.pdfbox.pdmodel.font.PDCIDFontType2 <init>\n",
      "INFO: OpenType Layout tables used in font ABCDEE+Calibri are not implemented in PDFBox and will be ignored\n",
      "\n"
     ]
    }
   ],
   "source": [
    "cidade, hospitais_campanha, leitos_municipais = carrega_dados()"
   ]
  },
  {
   "cell_type": "code",
   "execution_count": 3,
   "metadata": {},
   "outputs": [
    {
     "data": {
      "text/html": [
       "<div>\n",
       "<style scoped>\n",
       "    .dataframe tbody tr th:only-of-type {\n",
       "        vertical-align: middle;\n",
       "    }\n",
       "\n",
       "    .dataframe tbody tr th {\n",
       "        vertical-align: top;\n",
       "    }\n",
       "\n",
       "    .dataframe thead th {\n",
       "        text-align: right;\n",
       "    }\n",
       "</style>\n",
       "<table border=\"1\" class=\"dataframe\">\n",
       "  <thead>\n",
       "    <tr style=\"text-align: right;\">\n",
       "      <th></th>\n",
       "      <th>data</th>\n",
       "      <th>suspeitos</th>\n",
       "      <th>confirmados</th>\n",
       "      <th>óbitos</th>\n",
       "      <th>óbitos_suspeitos</th>\n",
       "    </tr>\n",
       "  </thead>\n",
       "  <tbody>\n",
       "    <tr>\n",
       "      <th>61</th>\n",
       "      <td>26/05/2020</td>\n",
       "      <td>174022</td>\n",
       "      <td>51852</td>\n",
       "      <td>3619.0</td>\n",
       "      <td>3777.0</td>\n",
       "    </tr>\n",
       "    <tr>\n",
       "      <th>62</th>\n",
       "      <td>27/05/2020</td>\n",
       "      <td>180720</td>\n",
       "      <td>54948</td>\n",
       "      <td>NaN</td>\n",
       "      <td>NaN</td>\n",
       "    </tr>\n",
       "  </tbody>\n",
       "</table>\n",
       "</div>"
      ],
      "text/plain": [
       "          data  suspeitos  confirmados  óbitos  óbitos_suspeitos\n",
       "61  26/05/2020     174022        51852  3619.0            3777.0\n",
       "62  27/05/2020     180720        54948     NaN               NaN"
      ]
     },
     "execution_count": 3,
     "metadata": {},
     "output_type": "execute_result"
    }
   ],
   "source": [
    "cidade.tail(2)"
   ]
  },
  {
   "cell_type": "code",
   "execution_count": 4,
   "metadata": {},
   "outputs": [
    {
     "name": "stdout",
     "output_type": "stream",
     "text": [
      "CACHE_NAME: Covid19-SP-27/05/2020-02\n"
     ]
    }
   ],
   "source": [
    "data_anterior = cidade.data.iat[-2]\n",
    "data_atual = cidade.data.iat[-1]\n",
    "\n",
    "with open('docs/serviceWorker.js', 'r') as file :\n",
    "  filedata = file.read()\n",
    "\n",
    "versao_anterior = int(filedata[16:18])\n",
    "\n",
    "#primeira atualização no dia\n",
    "if(filedata.count(data_atual) == 0):\n",
    "    versao_atual = 1\n",
    "    filedata = filedata.replace(data_anterior, data_atual)\n",
    "else:\n",
    "    versao_atual = versao_anterior + 1\n",
    "    \n",
    "print(f'CACHE_NAME: Covid19-SP-{data_atual}-{str(versao_atual).zfill(2)}')\n",
    "    \n",
    "versao_anterior = \"VERSAO = '\" + str(versao_anterior).zfill(2) + \"'\"\n",
    "versao_atual = \"VERSAO = '\" + str(versao_atual).zfill(2) + \"'\"\n",
    "filedata = filedata.replace(versao_anterior, versao_atual)\n",
    "\n",
    "with open('docs/serviceWorker.js', 'w') as file:\n",
    "  file.write(filedata)"
   ]
  }
 ],
 "metadata": {
  "kernelspec": {
   "display_name": "Python 3",
   "language": "python",
   "name": "python3"
  },
  "language_info": {
   "codemirror_mode": {
    "name": "ipython",
    "version": 3
   },
   "file_extension": ".py",
   "mimetype": "text/x-python",
   "name": "python",
   "nbconvert_exporter": "python",
   "pygments_lexer": "ipython3",
   "version": "3.7.6"
  }
 },
 "nbformat": 4,
 "nbformat_minor": 4
}
